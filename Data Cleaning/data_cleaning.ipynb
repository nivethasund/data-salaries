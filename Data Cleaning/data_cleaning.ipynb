{
 "cells": [
  {
   "attachments": {},
   "cell_type": "markdown",
   "metadata": {},
   "source": [
    "## Cleaning the Dataset before running analysis"
   ]
  },
  {
   "cell_type": "code",
   "execution_count": 14,
   "metadata": {},
   "outputs": [],
   "source": [
    "# importing dependencies required\n",
    "import pandas as pd\n",
    "from pathlib import Path\n",
    "import numpy as np"
   ]
  },
  {
   "cell_type": "code",
   "execution_count": 15,
   "metadata": {},
   "outputs": [
    {
     "data": {
      "text/html": [
       "<div>\n",
       "<style scoped>\n",
       "    .dataframe tbody tr th:only-of-type {\n",
       "        vertical-align: middle;\n",
       "    }\n",
       "\n",
       "    .dataframe tbody tr th {\n",
       "        vertical-align: top;\n",
       "    }\n",
       "\n",
       "    .dataframe thead th {\n",
       "        text-align: right;\n",
       "    }\n",
       "</style>\n",
       "<table border=\"1\" class=\"dataframe\">\n",
       "  <thead>\n",
       "    <tr style=\"text-align: right;\">\n",
       "      <th></th>\n",
       "      <th>Company Name</th>\n",
       "      <th>Rating</th>\n",
       "      <th>Average Salary</th>\n",
       "      <th>Role</th>\n",
       "    </tr>\n",
       "  </thead>\n",
       "  <tbody>\n",
       "    <tr>\n",
       "      <th>0</th>\n",
       "      <td>Tata Consultancy Services</td>\n",
       "      <td>3.9</td>\n",
       "      <td>7,80,000</td>\n",
       "      <td>Data Scientist</td>\n",
       "    </tr>\n",
       "    <tr>\n",
       "      <th>1</th>\n",
       "      <td>IBM</td>\n",
       "      <td>4.0</td>\n",
       "      <td>12,00,000</td>\n",
       "      <td>Data Scientist</td>\n",
       "    </tr>\n",
       "    <tr>\n",
       "      <th>2</th>\n",
       "      <td>Accenture</td>\n",
       "      <td>4.0</td>\n",
       "      <td>10,51,857</td>\n",
       "      <td>Data Scientist</td>\n",
       "    </tr>\n",
       "    <tr>\n",
       "      <th>3</th>\n",
       "      <td>Mu Sigma</td>\n",
       "      <td>3.5</td>\n",
       "      <td>7,25,000</td>\n",
       "      <td>Data Scientist</td>\n",
       "    </tr>\n",
       "    <tr>\n",
       "      <th>4</th>\n",
       "      <td>Infosys</td>\n",
       "      <td>3.3</td>\n",
       "      <td>7,70,714</td>\n",
       "      <td>Data Scientist</td>\n",
       "    </tr>\n",
       "  </tbody>\n",
       "</table>\n",
       "</div>"
      ],
      "text/plain": [
       "                Company Name  Rating Average Salary            Role\n",
       "0  Tata Consultancy Services     3.9       7,80,000  Data Scientist\n",
       "1                        IBM     4.0      12,00,000  Data Scientist\n",
       "2                  Accenture     4.0      10,51,857  Data Scientist\n",
       "3                   Mu Sigma     3.5       7,25,000  Data Scientist\n",
       "4                    Infosys     3.3       7,70,714  Data Scientist"
      ]
     },
     "execution_count": 15,
     "metadata": {},
     "output_type": "execute_result"
    }
   ],
   "source": [
    "# reading csv data into a suitable dataframe\n",
    "csvpath=Path(\"Data_Companies_Salaries1.csv\")\n",
    "data_df=pd.read_csv(csvpath)\n",
    "data_df.head()"
   ]
  },
  {
   "attachments": {},
   "cell_type": "markdown",
   "metadata": {},
   "source": [
    "### Let's understand our Data Set and find out some unique identifiers"
   ]
  },
  {
   "cell_type": "code",
   "execution_count": 16,
   "metadata": {},
   "outputs": [
    {
     "data": {
      "text/plain": [
       "5060"
      ]
     },
     "execution_count": 16,
     "metadata": {},
     "output_type": "execute_result"
    }
   ],
   "source": [
    "# Finding the number of unique companies in our data set\n",
    "unique_companies=data_df[\"Company Name\"].unique()\n",
    "len(unique_companies)"
   ]
  },
  {
   "cell_type": "code",
   "execution_count": 17,
   "metadata": {},
   "outputs": [
    {
     "data": {
      "text/plain": [
       "188"
      ]
     },
     "execution_count": 17,
     "metadata": {},
     "output_type": "execute_result"
    }
   ],
   "source": [
    "# Finding out the number of unique roles in our data set\n",
    "unique_roles=data_df[\"Role\"].unique()\n",
    "len(unique_roles)"
   ]
  },
  {
   "cell_type": "code",
   "execution_count": 18,
   "metadata": {},
   "outputs": [
    {
     "data": {
      "text/plain": [
       "62"
      ]
     },
     "execution_count": 18,
     "metadata": {},
     "output_type": "execute_result"
    }
   ],
   "source": [
    "# It's preferable to limit the roles present to those who earn an annual wage. We will have to discard any row that yeilds monthly, hourly salaries as well as Contractor or Intern roles.\n",
    "# source code - https://www.statology.org/pandas-drop-rows-that-contain-string/\n",
    "discard=[\"Monthly\",\"Hourly\", \"Intern\",\"Contractor\",\"internship\"]\n",
    "\n",
    "final_data=data_df[~data_df.Role.str.contains(\"|\".join(discard))]\n",
    "len(final_data[\"Role\"].unique())"
   ]
  },
  {
   "cell_type": "code",
   "execution_count": 19,
   "metadata": {},
   "outputs": [
    {
     "name": "stderr",
     "output_type": "stream",
     "text": [
      "/var/folders/33/k2j4j20s7fb5j52jx4p6qr0w0000gn/T/ipykernel_84604/4275263199.py:4: SettingWithCopyWarning: \n",
      "A value is trying to be set on a copy of a slice from a DataFrame.\n",
      "Try using .loc[row_indexer,col_indexer] = value instead\n",
      "\n",
      "See the caveats in the documentation: https://pandas.pydata.org/pandas-docs/stable/user_guide/indexing.html#returning-a-view-versus-a-copy\n",
      "  final_data[[\"Average Salary Numeric\", \"Average Salary Letter\"]] = final_data[\"Average Salary\"].str.extract(r\"(\\d+)([A-Za-z]+)\")\n",
      "/var/folders/33/k2j4j20s7fb5j52jx4p6qr0w0000gn/T/ipykernel_84604/4275263199.py:4: SettingWithCopyWarning: \n",
      "A value is trying to be set on a copy of a slice from a DataFrame.\n",
      "Try using .loc[row_indexer,col_indexer] = value instead\n",
      "\n",
      "See the caveats in the documentation: https://pandas.pydata.org/pandas-docs/stable/user_guide/indexing.html#returning-a-view-versus-a-copy\n",
      "  final_data[[\"Average Salary Numeric\", \"Average Salary Letter\"]] = final_data[\"Average Salary\"].str.extract(r\"(\\d+)([A-Za-z]+)\")\n"
     ]
    },
    {
     "data": {
      "text/html": [
       "<div>\n",
       "<style scoped>\n",
       "    .dataframe tbody tr th:only-of-type {\n",
       "        vertical-align: middle;\n",
       "    }\n",
       "\n",
       "    .dataframe tbody tr th {\n",
       "        vertical-align: top;\n",
       "    }\n",
       "\n",
       "    .dataframe thead th {\n",
       "        text-align: right;\n",
       "    }\n",
       "</style>\n",
       "<table border=\"1\" class=\"dataframe\">\n",
       "  <thead>\n",
       "    <tr style=\"text-align: right;\">\n",
       "      <th></th>\n",
       "      <th>Company Name</th>\n",
       "      <th>Rating</th>\n",
       "      <th>Role</th>\n",
       "      <th>Average Salary</th>\n",
       "      <th>Average Salary Numeric</th>\n",
       "      <th>Average Salary Letter</th>\n",
       "    </tr>\n",
       "  </thead>\n",
       "  <tbody>\n",
       "    <tr>\n",
       "      <th>8422</th>\n",
       "      <td>Innodatatics</td>\n",
       "      <td>4.3</td>\n",
       "      <td>Data Scientist, Data Analyst, Machine Learning...</td>\n",
       "      <td>1L -1L</td>\n",
       "      <td>1</td>\n",
       "      <td>L</td>\n",
       "    </tr>\n",
       "    <tr>\n",
       "      <th>8424</th>\n",
       "      <td>AlmaBetter</td>\n",
       "      <td>4.2</td>\n",
       "      <td>Data Scientist, Data Analyst, Machine Learning...</td>\n",
       "      <td>6L -6L</td>\n",
       "      <td>6</td>\n",
       "      <td>L</td>\n",
       "    </tr>\n",
       "    <tr>\n",
       "      <th>8426</th>\n",
       "      <td>Apollo Tyres</td>\n",
       "      <td>3.9</td>\n",
       "      <td>Data Scientist, Data Analyst, Machine Learning...</td>\n",
       "      <td>6L -6L</td>\n",
       "      <td>6</td>\n",
       "      <td>L</td>\n",
       "    </tr>\n",
       "    <tr>\n",
       "      <th>8428</th>\n",
       "      <td>Magicflare</td>\n",
       "      <td>2.4</td>\n",
       "      <td>Data Scientist, Data Analyst, Machine Learning...</td>\n",
       "      <td>10L -11L</td>\n",
       "      <td>10</td>\n",
       "      <td>L</td>\n",
       "    </tr>\n",
       "    <tr>\n",
       "      <th>8429</th>\n",
       "      <td>Fresherworld.com</td>\n",
       "      <td>4.0</td>\n",
       "      <td>Data Scientist, Data Analyst, Machine Learning...</td>\n",
       "      <td>4L -4L</td>\n",
       "      <td>4</td>\n",
       "      <td>L</td>\n",
       "    </tr>\n",
       "  </tbody>\n",
       "</table>\n",
       "</div>"
      ],
      "text/plain": [
       "          Company Name  Rating  \\\n",
       "8422      Innodatatics     4.3   \n",
       "8424        AlmaBetter     4.2   \n",
       "8426      Apollo Tyres     3.9   \n",
       "8428        Magicflare     2.4   \n",
       "8429  Fresherworld.com     4.0   \n",
       "\n",
       "                                                   Role Average Salary  \\\n",
       "8422  Data Scientist, Data Analyst, Machine Learning...         1L -1L   \n",
       "8424  Data Scientist, Data Analyst, Machine Learning...         6L -6L   \n",
       "8426  Data Scientist, Data Analyst, Machine Learning...         6L -6L   \n",
       "8428  Data Scientist, Data Analyst, Machine Learning...       10L -11L   \n",
       "8429  Data Scientist, Data Analyst, Machine Learning...         4L -4L   \n",
       "\n",
       "     Average Salary Numeric Average Salary Letter  \n",
       "8422                      1                     L  \n",
       "8424                      6                     L  \n",
       "8426                      6                     L  \n",
       "8428                     10                     L  \n",
       "8429                      4                     L  "
      ]
     },
     "execution_count": 19,
     "metadata": {},
     "output_type": "execute_result"
    }
   ],
   "source": [
    "# In the Salary column we contain ranges instead of an average. To simplify this, we will assume the lower level of each range is our average salary\n",
    "# Depending on if the salary has L, Cr or T - we should separate the letter from the numerical to make it easy for processing\n",
    "\n",
    "final_data[[\"Average Salary Numeric\", \"Average Salary Letter\"]] = final_data[\"Average Salary\"].str.extract(r\"(\\d+)([A-Za-z]+)\")\n",
    "\n",
    "final_data=final_data[[\"Company Name\",\"Rating\",\"Role\",\"Average Salary\",\"Average Salary Numeric\",\"Average Salary Letter\"]]\n",
    "final_data.tail()"
   ]
  },
  {
   "cell_type": "code",
   "execution_count": 20,
   "metadata": {},
   "outputs": [
    {
     "data": {
      "text/plain": [
       "5442"
      ]
     },
     "execution_count": 20,
     "metadata": {},
     "output_type": "execute_result"
    }
   ],
   "source": [
    "# Let's convert the salary ranges to NaN values\n",
    "rows_not_na=final_data[~final_data[\"Average Salary Numeric\"].isna()]\n",
    "indexes=rows_not_na.index\n",
    "\n",
    "final_data.loc[indexes, \"Average Salary\"] = np.nan\n",
    "\n",
    "#retrospective check to assess if there are any blank values later in the code\n",
    "final_data[\"Rating\"].count()"
   ]
  },
  {
   "cell_type": "code",
   "execution_count": 21,
   "metadata": {},
   "outputs": [
    {
     "data": {
      "text/plain": [
       "Company Name      967\n",
       "Rating            967\n",
       "Role              967\n",
       "Average Salary    967\n",
       "dtype: int64"
      ]
     },
     "execution_count": 21,
     "metadata": {},
     "output_type": "execute_result"
    }
   ],
   "source": [
    "# Splitting the dataframe into two tables. Top Table contains Average Salary values that aren't NaN\n",
    "top_data=final_data.loc[final_data[\"Average Salary Numeric\"].isna()]\n",
    "\n",
    "#index 8167 contain a salary range in an unclear format. I'll be dropping that row for clarity. Source https://pandas.pydata.org/docs/reference/api/pandas.DataFrame.drop.html\n",
    "top_data=top_data.drop([8167])\n",
    "\n",
    "# converting average salary to float and removing commas\n",
    "top_data[\"Average Salary\"]=top_data[\"Average Salary\"].str.replace(',', '').astype(\"float64\")\n",
    "top_data = top_data[[\"Company Name\",\"Rating\",\"Role\",\"Average Salary\"]]\n",
    "top_data.count()"
   ]
  },
  {
   "cell_type": "code",
   "execution_count": 22,
   "metadata": {},
   "outputs": [
    {
     "name": "stderr",
     "output_type": "stream",
     "text": [
      "/var/folders/33/k2j4j20s7fb5j52jx4p6qr0w0000gn/T/ipykernel_84604/3672504690.py:5: SettingWithCopyWarning: \n",
      "A value is trying to be set on a copy of a slice from a DataFrame.\n",
      "Try using .loc[row_indexer,col_indexer] = value instead\n",
      "\n",
      "See the caveats in the documentation: https://pandas.pydata.org/pandas-docs/stable/user_guide/indexing.html#returning-a-view-versus-a-copy\n",
      "  lower_data[\"Average Salary Numeric\"]=lower_data[\"Average Salary Numeric\"].astype(\"float64\")\n",
      "/var/folders/33/k2j4j20s7fb5j52jx4p6qr0w0000gn/T/ipykernel_84604/3672504690.py:13: SettingWithCopyWarning: \n",
      "A value is trying to be set on a copy of a slice from a DataFrame.\n",
      "Try using .loc[row_indexer,col_indexer] = value instead\n",
      "\n",
      "See the caveats in the documentation: https://pandas.pydata.org/pandas-docs/stable/user_guide/indexing.html#returning-a-view-versus-a-copy\n",
      "  lower_data[\"Average Salary\"]=lower_data[\"Average Salary Numeric\"]*100000\n",
      "/var/folders/33/k2j4j20s7fb5j52jx4p6qr0w0000gn/T/ipykernel_84604/3672504690.py:17: SettingWithCopyWarning: \n",
      "A value is trying to be set on a copy of a slice from a DataFrame.\n",
      "Try using .loc[row_indexer,col_indexer] = value instead\n",
      "\n",
      "See the caveats in the documentation: https://pandas.pydata.org/pandas-docs/stable/user_guide/indexing.html#returning-a-view-versus-a-copy\n",
      "  lower_data[\"Average Salary\"]=lower_data[\"Average Salary Numeric\"]*1000\n",
      "/var/folders/33/k2j4j20s7fb5j52jx4p6qr0w0000gn/T/ipykernel_84604/3672504690.py:15: SettingWithCopyWarning: \n",
      "A value is trying to be set on a copy of a slice from a DataFrame.\n",
      "Try using .loc[row_indexer,col_indexer] = value instead\n",
      "\n",
      "See the caveats in the documentation: https://pandas.pydata.org/pandas-docs/stable/user_guide/indexing.html#returning-a-view-versus-a-copy\n",
      "  lower_data[\"Average Salary\"]=lower_data[\"Average Salary Numeric\"]*10000000\n"
     ]
    },
    {
     "data": {
      "text/plain": [
       "Company Name      4579\n",
       "Rating            4474\n",
       "Role              4579\n",
       "Average Salary    4579\n",
       "dtype: int64"
      ]
     },
     "execution_count": 22,
     "metadata": {},
     "output_type": "execute_result"
    }
   ],
   "source": [
    "# Creating the bottom table, where Average Salary in the final dataframe is listed as NaN\n",
    "lower_data=final_data.loc[final_data[\"Average Salary\"].isna()]\n",
    "\n",
    "# Converting numeric to float\n",
    "lower_data[\"Average Salary Numeric\"]=lower_data[\"Average Salary Numeric\"].astype(\"float64\")\n",
    "lower_data[\"Average Salary Letter\"].unique()\n",
    "\n",
    "\n",
    "# translating values of Average Values by multiplying Average Salary numeric by it's alphabetical Co-efficient. (L=100000, Cr=10000000, T=1000)\n",
    "\n",
    "for x in lower_data[\"Average Salary Letter\"]:\n",
    "    if x==\"L\":\n",
    "        lower_data[\"Average Salary\"]=lower_data[\"Average Salary Numeric\"]*100000\n",
    "    elif x==\"Cr\":\n",
    "        lower_data[\"Average Salary\"]=lower_data[\"Average Salary Numeric\"]*10000000\n",
    "    elif x==\"T\":\n",
    "        lower_data[\"Average Salary\"]=lower_data[\"Average Salary Numeric\"]*1000\n",
    "\n",
    "# Reducing the number of columns to match top datafram\n",
    "\n",
    "lower_data=lower_data[[\"Company Name\",\"Rating\",\"Role\",\"Average Salary\"]]\n",
    "lower_data.count()\n"
   ]
  },
  {
   "cell_type": "code",
   "execution_count": 23,
   "metadata": {},
   "outputs": [
    {
     "data": {
      "text/plain": [
       "Company Name      4579\n",
       "Rating            4579\n",
       "Role              4579\n",
       "Average Salary    4579\n",
       "dtype: int64"
      ]
     },
     "execution_count": 23,
     "metadata": {},
     "output_type": "execute_result"
    }
   ],
   "source": [
    "# Count for lower table shows lesser rows in Ratings column which means there are empty or null values. I'll be replacing these with \"0\"\n",
    "lower_data[\"Rating\"].fillna(0, inplace=True)\n",
    "lower_data.count()"
   ]
  },
  {
   "cell_type": "code",
   "execution_count": 24,
   "metadata": {},
   "outputs": [
    {
     "name": "stderr",
     "output_type": "stream",
     "text": [
      "/var/folders/33/k2j4j20s7fb5j52jx4p6qr0w0000gn/T/ipykernel_84604/1549427889.py:3: FutureWarning: The frame.append method is deprecated and will be removed from pandas in a future version. Use pandas.concat instead.\n",
      "  main_df=top_data.append(lower_data,ignore_index=True)\n"
     ]
    },
    {
     "data": {
      "text/html": [
       "<div>\n",
       "<style scoped>\n",
       "    .dataframe tbody tr th:only-of-type {\n",
       "        vertical-align: middle;\n",
       "    }\n",
       "\n",
       "    .dataframe tbody tr th {\n",
       "        vertical-align: top;\n",
       "    }\n",
       "\n",
       "    .dataframe thead th {\n",
       "        text-align: right;\n",
       "    }\n",
       "</style>\n",
       "<table border=\"1\" class=\"dataframe\">\n",
       "  <thead>\n",
       "    <tr style=\"text-align: right;\">\n",
       "      <th></th>\n",
       "      <th>Company Name</th>\n",
       "      <th>Rating</th>\n",
       "      <th>Role</th>\n",
       "      <th>Average Salary</th>\n",
       "    </tr>\n",
       "  </thead>\n",
       "  <tbody>\n",
       "    <tr>\n",
       "      <th>0</th>\n",
       "      <td>Tata Consultancy Services</td>\n",
       "      <td>3.9</td>\n",
       "      <td>Data Scientist</td>\n",
       "      <td>780000.0</td>\n",
       "    </tr>\n",
       "    <tr>\n",
       "      <th>1</th>\n",
       "      <td>IBM</td>\n",
       "      <td>4.0</td>\n",
       "      <td>Data Scientist</td>\n",
       "      <td>1200000.0</td>\n",
       "    </tr>\n",
       "    <tr>\n",
       "      <th>2</th>\n",
       "      <td>Accenture</td>\n",
       "      <td>4.0</td>\n",
       "      <td>Data Scientist</td>\n",
       "      <td>1051857.0</td>\n",
       "    </tr>\n",
       "    <tr>\n",
       "      <th>3</th>\n",
       "      <td>Mu Sigma</td>\n",
       "      <td>3.5</td>\n",
       "      <td>Data Scientist</td>\n",
       "      <td>725000.0</td>\n",
       "    </tr>\n",
       "    <tr>\n",
       "      <th>4</th>\n",
       "      <td>Infosys</td>\n",
       "      <td>3.3</td>\n",
       "      <td>Data Scientist</td>\n",
       "      <td>770714.0</td>\n",
       "    </tr>\n",
       "    <tr>\n",
       "      <th>...</th>\n",
       "      <td>...</td>\n",
       "      <td>...</td>\n",
       "      <td>...</td>\n",
       "      <td>...</td>\n",
       "    </tr>\n",
       "    <tr>\n",
       "      <th>5541</th>\n",
       "      <td>Innodatatics</td>\n",
       "      <td>4.3</td>\n",
       "      <td>Data Scientist, Data Analyst, Machine Learning...</td>\n",
       "      <td>100000.0</td>\n",
       "    </tr>\n",
       "    <tr>\n",
       "      <th>5542</th>\n",
       "      <td>AlmaBetter</td>\n",
       "      <td>4.2</td>\n",
       "      <td>Data Scientist, Data Analyst, Machine Learning...</td>\n",
       "      <td>600000.0</td>\n",
       "    </tr>\n",
       "    <tr>\n",
       "      <th>5543</th>\n",
       "      <td>Apollo Tyres</td>\n",
       "      <td>3.9</td>\n",
       "      <td>Data Scientist, Data Analyst, Machine Learning...</td>\n",
       "      <td>600000.0</td>\n",
       "    </tr>\n",
       "    <tr>\n",
       "      <th>5544</th>\n",
       "      <td>Magicflare</td>\n",
       "      <td>2.4</td>\n",
       "      <td>Data Scientist, Data Analyst, Machine Learning...</td>\n",
       "      <td>1000000.0</td>\n",
       "    </tr>\n",
       "    <tr>\n",
       "      <th>5545</th>\n",
       "      <td>Fresherworld.com</td>\n",
       "      <td>4.0</td>\n",
       "      <td>Data Scientist, Data Analyst, Machine Learning...</td>\n",
       "      <td>400000.0</td>\n",
       "    </tr>\n",
       "  </tbody>\n",
       "</table>\n",
       "<p>5546 rows × 4 columns</p>\n",
       "</div>"
      ],
      "text/plain": [
       "                   Company Name  Rating  \\\n",
       "0     Tata Consultancy Services     3.9   \n",
       "1                           IBM     4.0   \n",
       "2                     Accenture     4.0   \n",
       "3                      Mu Sigma     3.5   \n",
       "4                       Infosys     3.3   \n",
       "...                         ...     ...   \n",
       "5541               Innodatatics     4.3   \n",
       "5542                 AlmaBetter     4.2   \n",
       "5543               Apollo Tyres     3.9   \n",
       "5544                 Magicflare     2.4   \n",
       "5545           Fresherworld.com     4.0   \n",
       "\n",
       "                                                   Role  Average Salary  \n",
       "0                                        Data Scientist        780000.0  \n",
       "1                                        Data Scientist       1200000.0  \n",
       "2                                        Data Scientist       1051857.0  \n",
       "3                                        Data Scientist        725000.0  \n",
       "4                                        Data Scientist        770714.0  \n",
       "...                                                 ...             ...  \n",
       "5541  Data Scientist, Data Analyst, Machine Learning...        100000.0  \n",
       "5542  Data Scientist, Data Analyst, Machine Learning...        600000.0  \n",
       "5543  Data Scientist, Data Analyst, Machine Learning...        600000.0  \n",
       "5544  Data Scientist, Data Analyst, Machine Learning...       1000000.0  \n",
       "5545  Data Scientist, Data Analyst, Machine Learning...        400000.0  \n",
       "\n",
       "[5546 rows x 4 columns]"
      ]
     },
     "execution_count": 24,
     "metadata": {},
     "output_type": "execute_result"
    }
   ],
   "source": [
    "# Now that we have cleaned our top and lower dataframes to contain similar formatting for average salary, we can append these tables to form one.\n",
    "# source - https://www.geeksforgeeks.org/python-pandas-dataframe-append/\n",
    "main_df=top_data.append(lower_data,ignore_index=True)\n",
    "main_df"
   ]
  },
  {
   "cell_type": "code",
   "execution_count": 25,
   "metadata": {},
   "outputs": [],
   "source": [
    "# Now that we've cleaned the data, we'll output the dataframe into it's own path, so it's easier to work from\n",
    "main_df.to_csv(\"../Data_Salaries_Final.csv\",index=False)"
   ]
  }
 ],
 "metadata": {
  "kernelspec": {
   "display_name": "dev",
   "language": "python",
   "name": "python3"
  },
  "language_info": {
   "codemirror_mode": {
    "name": "ipython",
    "version": 3
   },
   "file_extension": ".py",
   "mimetype": "text/x-python",
   "name": "python",
   "nbconvert_exporter": "python",
   "pygments_lexer": "ipython3",
   "version": "3.10.11"
  },
  "orig_nbformat": 4
 },
 "nbformat": 4,
 "nbformat_minor": 2
}
